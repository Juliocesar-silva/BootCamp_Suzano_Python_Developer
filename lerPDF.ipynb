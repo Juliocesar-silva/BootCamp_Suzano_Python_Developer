{
  "nbformat": 4,
  "nbformat_minor": 0,
  "metadata": {
    "colab": {
      "provenance": [],
      "authorship_tag": "ABX9TyPuYWdumNmjHMOZEQ9FaRlJ",
      "include_colab_link": true
    },
    "kernelspec": {
      "name": "python3",
      "display_name": "Python 3"
    },
    "language_info": {
      "name": "python"
    }
  },
  "cells": [
    {
      "cell_type": "markdown",
      "metadata": {
        "id": "view-in-github",
        "colab_type": "text"
      },
      "source": [
        "<a href=\"https://colab.research.google.com/github/Juliocesar-silva/BootCamp_Suzano_Python_Developer/blob/main/lerPDF.ipynb\" target=\"_parent\"><img src=\"https://colab.research.google.com/assets/colab-badge.svg\" alt=\"Open In Colab\"/></a>"
      ]
    },
    {
      "cell_type": "code",
      "execution_count": 5,
      "metadata": {
        "colab": {
          "base_uri": "https://localhost:8080/"
        },
        "id": "Ms-Yrr-Na3aA",
        "outputId": "71c85987-fdd3-451b-cc62-fa2e9a604e0c"
      },
      "outputs": [
        {
          "output_type": "stream",
          "name": "stdout",
          "text": [
            "Requirement already satisfied: PyPDF2 in /usr/local/lib/python3.11/dist-packages (3.0.1)\n",
            "ARQUIV O PD F DE TESTE\n",
            "Este é um  arquivo pdf utili zado para test es de consulta de arquivo.\n"
          ]
        }
      ],
      "source": [
        "!pip install PyPDF2\n",
        "import PyPDF2\n",
        "\n",
        "texto_obtido = \"\"\n",
        "diretorio = \"teste.pdf\"\n",
        "with open(diretorio, \"rb\") as input_arquivo:\n",
        "  arquivo = PyPDF2.PdfReader(input_arquivo)\n",
        "  numero_paginas = len(arquivo.pages)\n",
        "  for pages in range(numero_paginas):\n",
        "    pagina = arquivo.pages[pages]\n",
        "    texto_obtido = pagina.extract_text()\n",
        "\n",
        "print(texto_obtido)"
      ]
    }
  ]
}