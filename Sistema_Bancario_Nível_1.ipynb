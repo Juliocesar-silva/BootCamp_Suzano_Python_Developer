{
  "nbformat": 4,
  "nbformat_minor": 0,
  "metadata": {
    "colab": {
      "provenance": [],
      "authorship_tag": "ABX9TyNEUyTX4kzc3hWGAfb0CZ6O",
      "include_colab_link": true
    },
    "kernelspec": {
      "name": "python3",
      "display_name": "Python 3"
    },
    "language_info": {
      "name": "python"
    }
  },
  "cells": [
    {
      "cell_type": "markdown",
      "metadata": {
        "id": "view-in-github",
        "colab_type": "text"
      },
      "source": [
        "<a href=\"https://colab.research.google.com/github/Juliocesar-silva/BootCamp_Suzano_Python_Developer/blob/main/Sistema_Bancario_N%C3%ADvel_1.ipynb\" target=\"_parent\"><img src=\"https://colab.research.google.com/assets/colab-badge.svg\" alt=\"Open In Colab\"/></a>"
      ]
    },
    {
      "cell_type": "markdown",
      "source": [
        "SISTEMA BANCÁRIO COM PYTHON"
      ],
      "metadata": {
        "id": "mkJHqkKw4gCD"
      }
    },
    {
      "cell_type": "code",
      "source": [
        "# Essa é a primeira versão do projeto, será utilizado apenas o básico da linguagem neste código.\n",
        "conta_corrente = 0\n",
        "saques_diarios = 3\n",
        "depositos = []\n",
        "saques = []\n",
        "while(True):\n",
        "  print('''\n",
        "      (1) - Depósito\n",
        "      (2) - Saque\n",
        "      (3) - Extrato\n",
        "      (4) - Sair\n",
        "  ''')\n",
        "  opcao = int(input(\"Digite o número referente a opção desejada: \"))\n",
        "  if(opcao == 1):\n",
        "    deposito = float(input(\"Digite o valor a ser depositado: \"))\n",
        "    if(deposito > 0):\n",
        "      conta_corrente += deposito\n",
        "      depositos.append(deposito)\n",
        "      print(\"Depósito realizado com sucesso\")\n",
        "    else:\n",
        "      print(\"Valor inválido\")\n",
        "  elif(opcao == 2):\n",
        "    saque = float(input(\"Digite o valor a ser sacado: \"))\n",
        "    if(conta_corrente >= saque):\n",
        "      if(saques_diarios > 0):\n",
        "        if(saque > 0 and saque <= 500):\n",
        "          print(\"Saque realizado com sucesso\")\n",
        "          conta_corrente -= saque\n",
        "          saques.append(saque)\n",
        "          saques_diarios -= 1\n",
        "      else:\n",
        "        print(\"Saques diários esgotados\")\n",
        "    else:\n",
        "      print(\"O valor do saque excede o valor em conta\")\n",
        "  elif(opcao == 3):\n",
        "    for valores_depositos in depositos:\n",
        "      print(\"Deposito: R$ \", round(valores_depositos, 2))\n",
        "    for valores_saques in saques:\n",
        "      print(\"Saque: R$ \", round(valores_saques, 2))\n",
        "    print(\"Saldo atual: R$ \", round(conta_corrente, 2))\n",
        "  elif(opcao == 4):\n",
        "    break\n",
        "    print(\"Programa Encerrado\")"
      ],
      "metadata": {
        "colab": {
          "base_uri": "https://localhost:8080/",
          "height": 1000
        },
        "id": "NeMK2bG54jyX",
        "outputId": "e2155987-d026-4026-c2fa-2eb527c09345"
      },
      "execution_count": 16,
      "outputs": [
        {
          "output_type": "stream",
          "name": "stdout",
          "text": [
            "\n",
            "      (1) - Depósito\n",
            "      (2) - Saque\n",
            "      (3) - Extrato\n",
            "      (4) - Sair\n",
            "  \n",
            "Digite o número referente a opção desejada: 1\n",
            "Digite o valor a ser depositado: 500\n",
            "Depósito realizado com sucesso\n",
            "\n",
            "      (1) - Depósito\n",
            "      (2) - Saque\n",
            "      (3) - Extrato\n",
            "      (4) - Sair\n",
            "  \n",
            "Digite o número referente a opção desejada: 2\n",
            "Digite o valor a ser sacado: 500\n",
            "Saque realizado com sucesso\n",
            "\n",
            "      (1) - Depósito\n",
            "      (2) - Saque\n",
            "      (3) - Extrato\n",
            "      (4) - Sair\n",
            "  \n",
            "Digite o número referente a opção desejada: 3\n",
            "Deposito: R$  500.0\n",
            "Saque: R$  500.0\n",
            "Saldo atual: R$  0.0\n",
            "\n",
            "      (1) - Depósito\n",
            "      (2) - Saque\n",
            "      (3) - Extrato\n",
            "      (4) - Sair\n",
            "  \n",
            "Digite o número referente a opção desejada: 2\n",
            "Digite o valor a ser sacado: 50\n",
            "O valor do saque excede o valor em conta\n",
            "\n",
            "      (1) - Depósito\n",
            "      (2) - Saque\n",
            "      (3) - Extrato\n",
            "      (4) - Sair\n",
            "  \n",
            "Digite o número referente a opção desejada: 3\n",
            "Deposito: R$  500.0\n",
            "Saque: R$  500.0\n",
            "Saldo atual: R$  0.0\n",
            "\n",
            "      (1) - Depósito\n",
            "      (2) - Saque\n",
            "      (3) - Extrato\n",
            "      (4) - Sair\n",
            "  \n"
          ]
        },
        {
          "output_type": "error",
          "ename": "KeyboardInterrupt",
          "evalue": "Interrupted by user",
          "traceback": [
            "\u001b[0;31m---------------------------------------------------------------------------\u001b[0m",
            "\u001b[0;31mKeyboardInterrupt\u001b[0m                         Traceback (most recent call last)",
            "\u001b[0;32m<ipython-input-16-5e7c543bf801>\u001b[0m in \u001b[0;36m<cell line: 0>\u001b[0;34m()\u001b[0m\n\u001b[1;32m     11\u001b[0m       \u001b[0;34m(\u001b[0m\u001b[0;36m4\u001b[0m\u001b[0;34m)\u001b[0m \u001b[0;34m-\u001b[0m \u001b[0mSair\u001b[0m\u001b[0;34m\u001b[0m\u001b[0;34m\u001b[0m\u001b[0m\n\u001b[1;32m     12\u001b[0m   ''')\n\u001b[0;32m---> 13\u001b[0;31m   \u001b[0mopcao\u001b[0m \u001b[0;34m=\u001b[0m \u001b[0mint\u001b[0m\u001b[0;34m(\u001b[0m\u001b[0minput\u001b[0m\u001b[0;34m(\u001b[0m\u001b[0;34m\"Digite o número referente a opção desejada: \"\u001b[0m\u001b[0;34m)\u001b[0m\u001b[0;34m)\u001b[0m\u001b[0;34m\u001b[0m\u001b[0;34m\u001b[0m\u001b[0m\n\u001b[0m\u001b[1;32m     14\u001b[0m   \u001b[0;32mif\u001b[0m\u001b[0;34m(\u001b[0m\u001b[0mopcao\u001b[0m \u001b[0;34m==\u001b[0m \u001b[0;36m1\u001b[0m\u001b[0;34m)\u001b[0m\u001b[0;34m:\u001b[0m\u001b[0;34m\u001b[0m\u001b[0;34m\u001b[0m\u001b[0m\n\u001b[1;32m     15\u001b[0m     \u001b[0mdeposito\u001b[0m \u001b[0;34m=\u001b[0m \u001b[0mfloat\u001b[0m\u001b[0;34m(\u001b[0m\u001b[0minput\u001b[0m\u001b[0;34m(\u001b[0m\u001b[0;34m\"Digite o valor a ser depositado: \"\u001b[0m\u001b[0;34m)\u001b[0m\u001b[0;34m)\u001b[0m\u001b[0;34m\u001b[0m\u001b[0;34m\u001b[0m\u001b[0m\n",
            "\u001b[0;32m/usr/local/lib/python3.11/dist-packages/ipykernel/kernelbase.py\u001b[0m in \u001b[0;36mraw_input\u001b[0;34m(self, prompt)\u001b[0m\n\u001b[1;32m    849\u001b[0m                 \u001b[0;34m\"raw_input was called, but this frontend does not support input requests.\"\u001b[0m\u001b[0;34m\u001b[0m\u001b[0;34m\u001b[0m\u001b[0m\n\u001b[1;32m    850\u001b[0m             )\n\u001b[0;32m--> 851\u001b[0;31m         return self._input_request(str(prompt),\n\u001b[0m\u001b[1;32m    852\u001b[0m             \u001b[0mself\u001b[0m\u001b[0;34m.\u001b[0m\u001b[0m_parent_ident\u001b[0m\u001b[0;34m,\u001b[0m\u001b[0;34m\u001b[0m\u001b[0;34m\u001b[0m\u001b[0m\n\u001b[1;32m    853\u001b[0m             \u001b[0mself\u001b[0m\u001b[0;34m.\u001b[0m\u001b[0m_parent_header\u001b[0m\u001b[0;34m,\u001b[0m\u001b[0;34m\u001b[0m\u001b[0;34m\u001b[0m\u001b[0m\n",
            "\u001b[0;32m/usr/local/lib/python3.11/dist-packages/ipykernel/kernelbase.py\u001b[0m in \u001b[0;36m_input_request\u001b[0;34m(self, prompt, ident, parent, password)\u001b[0m\n\u001b[1;32m    893\u001b[0m             \u001b[0;32mexcept\u001b[0m \u001b[0mKeyboardInterrupt\u001b[0m\u001b[0;34m:\u001b[0m\u001b[0;34m\u001b[0m\u001b[0;34m\u001b[0m\u001b[0m\n\u001b[1;32m    894\u001b[0m                 \u001b[0;31m# re-raise KeyboardInterrupt, to truncate traceback\u001b[0m\u001b[0;34m\u001b[0m\u001b[0;34m\u001b[0m\u001b[0m\n\u001b[0;32m--> 895\u001b[0;31m                 \u001b[0;32mraise\u001b[0m \u001b[0mKeyboardInterrupt\u001b[0m\u001b[0;34m(\u001b[0m\u001b[0;34m\"Interrupted by user\"\u001b[0m\u001b[0;34m)\u001b[0m \u001b[0;32mfrom\u001b[0m \u001b[0;32mNone\u001b[0m\u001b[0;34m\u001b[0m\u001b[0;34m\u001b[0m\u001b[0m\n\u001b[0m\u001b[1;32m    896\u001b[0m             \u001b[0;32mexcept\u001b[0m \u001b[0mException\u001b[0m \u001b[0;32mas\u001b[0m \u001b[0me\u001b[0m\u001b[0;34m:\u001b[0m\u001b[0;34m\u001b[0m\u001b[0;34m\u001b[0m\u001b[0m\n\u001b[1;32m    897\u001b[0m                 \u001b[0mself\u001b[0m\u001b[0;34m.\u001b[0m\u001b[0mlog\u001b[0m\u001b[0;34m.\u001b[0m\u001b[0mwarning\u001b[0m\u001b[0;34m(\u001b[0m\u001b[0;34m\"Invalid Message:\"\u001b[0m\u001b[0;34m,\u001b[0m \u001b[0mexc_info\u001b[0m\u001b[0;34m=\u001b[0m\u001b[0;32mTrue\u001b[0m\u001b[0;34m)\u001b[0m\u001b[0;34m\u001b[0m\u001b[0;34m\u001b[0m\u001b[0m\n",
            "\u001b[0;31mKeyboardInterrupt\u001b[0m: Interrupted by user"
          ]
        }
      ]
    }
  ]
}