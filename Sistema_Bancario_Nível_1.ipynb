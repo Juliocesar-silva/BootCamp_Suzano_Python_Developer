{
  "nbformat": 4,
  "nbformat_minor": 0,
  "metadata": {
    "colab": {
      "provenance": [],
      "authorship_tag": "ABX9TyMCEwcsbxBUMMsGGNkbVhHp",
      "include_colab_link": true
    },
    "kernelspec": {
      "name": "python3",
      "display_name": "Python 3"
    },
    "language_info": {
      "name": "python"
    }
  },
  "cells": [
    {
      "cell_type": "markdown",
      "metadata": {
        "id": "view-in-github",
        "colab_type": "text"
      },
      "source": [
        "<a href=\"https://colab.research.google.com/github/Juliocesar-silva/BootCamp_Suzano_Python_Developer/blob/main/Sistema_Bancario_N%C3%ADvel_1.ipynb\" target=\"_parent\"><img src=\"https://colab.research.google.com/assets/colab-badge.svg\" alt=\"Open In Colab\"/></a>"
      ]
    },
    {
      "cell_type": "markdown",
      "source": [
        "SISTEMA BANCÁRIO COM PYTHON"
      ],
      "metadata": {
        "id": "mkJHqkKw4gCD"
      }
    },
    {
      "cell_type": "code",
      "source": [
        "conta_corrente = 0\n",
        "saques_diarios = 3 # Variável Constante\n",
        "depositos = [] # Lista para armazenar o registro dos depositos\n",
        "saques = [] # Lista para armazenar o registro dos saques\n",
        "\n",
        "# Laço de repetição responsável pela aplicação\n",
        "while(True):\n",
        "  # Menu\n",
        "  print('''\n",
        "      (1) - Depósito\n",
        "      (2) - Saque\n",
        "      (3) - Extrato\n",
        "      (4) - Sair\n",
        "  ''')\n",
        "  # Entrada do usuário\n",
        "  opcao = int(input(\"Digite o número referente a opção desejada: \"))\n",
        "  # Estruturas condicionais de acordo com a opção selecionada\n",
        "  if(opcao == 1):\n",
        "    deposito = float(input(\"Digite o valor a ser depositado: \"))\n",
        "    if(deposito > 0):\n",
        "      conta_corrente += deposito # Incrementação do depósito na conta corrente\n",
        "      depositos.append(deposito) # Registro do depósito\n",
        "      print(\"Depósito realizado com sucesso\")\n",
        "    else:\n",
        "      print(\"Valor inválido\")\n",
        "  elif(opcao == 2):\n",
        "    saque = float(input(\"Digite o valor a ser sacado: \"))\n",
        "    if(conta_corrente >= saque):\n",
        "      if(saques_diarios > 0):\n",
        "        if(saque > 0 and saque <= 500):\n",
        "          print(\"Saque realizado com sucesso\")\n",
        "          conta_corrente -= saque # Retirada do valor presente na conta corrente\n",
        "          saques.append(saque) # Registro do saque\n",
        "          saques_diarios -= 1 # Decremento dos saques diários\n",
        "      else:\n",
        "        print(\"Saques diários esgotados\")\n",
        "    else:\n",
        "      print(\"O valor do saque excede o valor em conta\")\n",
        "  elif(opcao == 3):\n",
        "    # Laços de repetição responsáveis por mostrar os valores presentes na lista\n",
        "    for valores_depositos in depositos:\n",
        "      print(\"Deposito: R$ \", round(valores_depositos, 2))\n",
        "    for valores_saques in saques:\n",
        "      print(\"Saque: R$ \", round(valores_saques, 2))\n",
        "    print(\"Saldo atual: R$ \", round(conta_corrente, 2)) # Mostra o saldo atual\n",
        "  elif(opcao == 4):\n",
        "    break\n",
        "    print(\"Programa Encerrado\")"
      ],
      "metadata": {
        "colab": {
          "base_uri": "https://localhost:8080/"
        },
        "id": "NeMK2bG54jyX",
        "outputId": "355c9c07-6c31-4063-ec1b-2700d6bd55de"
      },
      "execution_count": 17,
      "outputs": [
        {
          "name": "stdout",
          "output_type": "stream",
          "text": [
            "\n",
            "      (1) - Depósito\n",
            "      (2) - Saque\n",
            "      (3) - Extrato\n",
            "      (4) - Sair\n",
            "  \n",
            "Digite o número referente a opção desejada: 1\n",
            "Digite o valor a ser depositado: 1000\n",
            "Depósito realizado com sucesso\n",
            "\n",
            "      (1) - Depósito\n",
            "      (2) - Saque\n",
            "      (3) - Extrato\n",
            "      (4) - Sair\n",
            "  \n",
            "Digite o número referente a opção desejada: 2\n",
            "Digite o valor a ser sacado: 500\n",
            "Saque realizado com sucesso\n",
            "\n",
            "      (1) - Depósito\n",
            "      (2) - Saque\n",
            "      (3) - Extrato\n",
            "      (4) - Sair\n",
            "  \n",
            "Digite o número referente a opção desejada: 3\n",
            "Deposito: R$  1000.0\n",
            "Saque: R$  500.0\n",
            "Saldo atual: R$  500.0\n",
            "\n",
            "      (1) - Depósito\n",
            "      (2) - Saque\n",
            "      (3) - Extrato\n",
            "      (4) - Sair\n",
            "  \n",
            "Digite o número referente a opção desejada: 4\n"
          ]
        }
      ]
    }
  ]
}